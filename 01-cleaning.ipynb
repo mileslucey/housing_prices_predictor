{
 "cells": [
  {
   "cell_type": "code",
   "execution_count": 1,
   "metadata": {},
   "outputs": [],
   "source": [
    "# Dependencies and setup\n",
    "import numpy as np\n",
    "import matplotlib.pyplot as plt\n",
    "import pandas as pd\n",
    "import seaborn as sns\n",
    "import numpy as np\n",
    "from scipy import stats\n",
    "from sklearn.preprocessing import Imputer\n",
    "%matplotlib inline"
   ]
  },
  {
   "cell_type": "code",
   "execution_count": 2,
   "metadata": {},
   "outputs": [],
   "source": [
    "# Set maximum rows to a high number\n",
    "pd.set_option('display.max_rows', 100)"
   ]
  },
  {
   "cell_type": "code",
   "execution_count": 3,
   "metadata": {},
   "outputs": [],
   "source": [
    "# Load datasets\n",
    "training_data = pd.read_csv(\"raw_data/train.csv\",index_col=0)\n",
    "testing_data = pd.read_csv(\"raw_data/train.csv\",index_col=0)"
   ]
  },
  {
   "cell_type": "markdown",
   "metadata": {},
   "source": [
    "## Cleaning"
   ]
  },
  {
   "cell_type": "code",
   "execution_count": 4,
   "metadata": {},
   "outputs": [],
   "source": [
    "# Replace unusual values in DataFrame columns\n",
    "\n",
    "# Training data\n",
    "training_data[\"MSZoning\"].replace(\"C (all)\", \"C\", inplace=True)\n",
    "\n",
    "# Testing data\n",
    "testing_data[\"MSZoning\"].replace(\"C (all)\", \"C\", inplace=True)"
   ]
  },
  {
   "cell_type": "code",
   "execution_count": 5,
   "metadata": {},
   "outputs": [],
   "source": [
    "# Fill LotFrontage N/As with median values for each neighborhood\n",
    "\n",
    "# Training data\n",
    "training_data[\"LotFrontage\"] = training_data.groupby(\"Neighborhood\")[\"LotFrontage\"].transform(lambda x: x.fillna(x.median()))\n",
    "\n",
    "# Testing data\n",
    "testing_data[\"LotFrontage\"] = testing_data.groupby(\"Neighborhood\")[\"LotFrontage\"].transform(lambda x: x.fillna(x.median()))"
   ]
  },
  {
   "cell_type": "code",
   "execution_count": 6,
   "metadata": {},
   "outputs": [],
   "source": [
    "# For some string variables, N/A means that there isn't a specific feature on a house. For example N/A on \"BsmtCond\" (Basement Condition) means that there is no basement. Therefore, replace N/A values with \"None\"\n",
    "\n",
    "# Training data\n",
    "training_data.update(training_data[[\"Alley\",\n",
    "                                    \"MasVnrType\",\n",
    "                                    \"BsmtQual\",\n",
    "                                    \"BsmtCond\",\n",
    "                                    \"BsmtExposure\",\n",
    "                                    \"BsmtFinType1\",\n",
    "                                    \"BsmtFinType2\",\n",
    "                                    \"FireplaceQu\",\n",
    "                                    \"GarageType\",\n",
    "                                    \"GarageYrBlt\",\n",
    "                                    \"GarageFinish\",\n",
    "                                    \"GarageQual\",\n",
    "                                    \"GarageCond\",\n",
    "                                    \"PoolQC\",\n",
    "                                    \"Fence\",\n",
    "                                    \"MiscFeature\",\n",
    "                                    \"MiscVal\"]].fillna(\"None\"))\n",
    "\n",
    "# Testing data\n",
    "testing_data.update(testing_data[[\"Alley\",\n",
    "                                    \"MasVnrType\",\n",
    "                                    \"BsmtQual\",\n",
    "                                    \"BsmtCond\",\n",
    "                                    \"BsmtExposure\",\n",
    "                                    \"BsmtFinType1\",\n",
    "                                    \"BsmtFinType2\",\n",
    "                                    \"FireplaceQu\",\n",
    "                                    \"GarageType\",\n",
    "                                    \"GarageYrBlt\",\n",
    "                                    \"GarageFinish\",\n",
    "                                    \"GarageQual\",\n",
    "                                    \"GarageCond\",\n",
    "                                    \"PoolQC\",\n",
    "                                    \"Fence\",\n",
    "                                    \"MiscFeature\",\n",
    "                                    \"MiscVal\"]].fillna(\"None\"))"
   ]
  },
  {
   "cell_type": "code",
   "execution_count": 7,
   "metadata": {},
   "outputs": [],
   "source": [
    "# Some N/A values are better replaced with 0s. For example, when BsmtFinSF1 (finished basement square feet) is N/A it means that there is no basement. Therefore, N/As for some columns are replaced with 0s\n",
    "\n",
    "# Training data\n",
    "training_data.update(training_data[[\"MasVnrArea\",\n",
    "                                    \"BsmtFinSF1\",\n",
    "                                    \"BsmtFinSF2\",\n",
    "                                    \"TotalBsmtSF\",\n",
    "                                    \"BsmtUnfSF\"]].fillna(0))\n",
    "\n",
    "# Testing data\n",
    "testing_data.update(testing_data[[\"MasVnrArea\",\n",
    "                                    \"BsmtFinSF1\",\n",
    "                                    \"BsmtFinSF2\",\n",
    "                                    \"TotalBsmtSF\",\n",
    "                                    \"BsmtUnfSF\"]].fillna(0))"
   ]
  },
  {
   "cell_type": "code",
   "execution_count": 8,
   "metadata": {},
   "outputs": [],
   "source": [
    "# In the \"Electrical\" column, there are only a couple of N/As and most homes have the same type of electrical. Replacing N/As with the mode result in each neighborhood\n",
    "\n",
    "# Training data\n",
    "training_data[\"Electrical\"] = training_data.groupby(\"Neighborhood\")[\"Electrical\"].transform(lambda x: x.fillna(x.mode()[0]))\n",
    "\n",
    "# Testing data\n",
    "testing_data[\"Electrical\"] = testing_data.groupby(\"Neighborhood\")[\"Electrical\"].transform(lambda x: x.fillna(x.mode()[0]))"
   ]
  },
  {
   "cell_type": "code",
   "execution_count": 14,
   "metadata": {},
   "outputs": [],
   "source": [
    "# Many variables like housing classes, years, months, and ratings are represented as integers when they actually function like strings. Converting incorrectly classified variables as strings\n",
    "training_data[[\"MSSubClass\",\n",
    "               \"YearBuilt\",\n",
    "               \"YearRemodAdd\",\n",
    "               \"GarageYrBlt\",\n",
    "               \"YrSold\",\n",
    "               \"MoSold\",\n",
    "               \"OverallCond\",\n",
    "               \"OverallQual\"]] = training_data[[\"MSSubClass\",\n",
    "                                                \"YearBuilt\",\n",
    "                                                \"YearRemodAdd\",\n",
    "                                                \"GarageYrBlt\",\n",
    "                                                \"YrSold\",\n",
    "                                                \"MoSold\",\n",
    "                                                \"OverallCond\",\n",
    "                                                \"OverallQual\"]].astype(str) "
   ]
  },
  {
   "cell_type": "code",
   "execution_count": null,
   "metadata": {},
   "outputs": [],
   "source": []
  },
  {
   "cell_type": "code",
   "execution_count": null,
   "metadata": {},
   "outputs": [],
   "source": []
  },
  {
   "cell_type": "code",
   "execution_count": null,
   "metadata": {},
   "outputs": [],
   "source": []
  },
  {
   "cell_type": "code",
   "execution_count": null,
   "metadata": {},
   "outputs": [],
   "source": []
  },
  {
   "cell_type": "code",
   "execution_count": 11,
   "metadata": {},
   "outputs": [
    {
     "data": {
      "text/plain": [
       "MSSubClass       0\n",
       "MSZoning         0\n",
       "LotFrontage      0\n",
       "LotArea          0\n",
       "Street           0\n",
       "Alley            0\n",
       "LotShape         0\n",
       "LandContour      0\n",
       "Utilities        0\n",
       "LotConfig        0\n",
       "LandSlope        0\n",
       "Neighborhood     0\n",
       "Condition1       0\n",
       "Condition2       0\n",
       "BldgType         0\n",
       "HouseStyle       0\n",
       "OverallQual      0\n",
       "OverallCond      0\n",
       "YearBuilt        0\n",
       "YearRemodAdd     0\n",
       "RoofStyle        0\n",
       "RoofMatl         0\n",
       "Exterior1st      0\n",
       "Exterior2nd      0\n",
       "MasVnrType       0\n",
       "MasVnrArea       0\n",
       "ExterQual        0\n",
       "ExterCond        0\n",
       "Foundation       0\n",
       "BsmtQual         0\n",
       "BsmtCond         0\n",
       "BsmtExposure     0\n",
       "BsmtFinType1     0\n",
       "BsmtFinSF1       0\n",
       "BsmtFinType2     0\n",
       "BsmtFinSF2       0\n",
       "BsmtUnfSF        0\n",
       "TotalBsmtSF      0\n",
       "Heating          0\n",
       "HeatingQC        0\n",
       "CentralAir       0\n",
       "Electrical       0\n",
       "1stFlrSF         0\n",
       "2ndFlrSF         0\n",
       "LowQualFinSF     0\n",
       "GrLivArea        0\n",
       "BsmtFullBath     0\n",
       "BsmtHalfBath     0\n",
       "FullBath         0\n",
       "HalfBath         0\n",
       "BedroomAbvGr     0\n",
       "KitchenAbvGr     0\n",
       "KitchenQual      0\n",
       "TotRmsAbvGrd     0\n",
       "Functional       0\n",
       "Fireplaces       0\n",
       "FireplaceQu      0\n",
       "GarageType       0\n",
       "GarageYrBlt      0\n",
       "GarageFinish     0\n",
       "GarageCars       0\n",
       "GarageArea       0\n",
       "GarageQual       0\n",
       "GarageCond       0\n",
       "PavedDrive       0\n",
       "WoodDeckSF       0\n",
       "OpenPorchSF      0\n",
       "EnclosedPorch    0\n",
       "3SsnPorch        0\n",
       "ScreenPorch      0\n",
       "PoolArea         0\n",
       "PoolQC           0\n",
       "Fence            0\n",
       "MiscFeature      0\n",
       "MiscVal          0\n",
       "MoSold           0\n",
       "YrSold           0\n",
       "SaleType         0\n",
       "SaleCondition    0\n",
       "SalePrice        0\n",
       "dtype: int64"
      ]
     },
     "execution_count": 11,
     "metadata": {},
     "output_type": "execute_result"
    }
   ],
   "source": [
    "training_data.isnull().sum(axis = 0)"
   ]
  },
  {
   "cell_type": "code",
   "execution_count": null,
   "metadata": {},
   "outputs": [],
   "source": []
  },
  {
   "cell_type": "code",
   "execution_count": null,
   "metadata": {},
   "outputs": [],
   "source": []
  },
  {
   "cell_type": "code",
   "execution_count": null,
   "metadata": {},
   "outputs": [],
   "source": []
  }
 ],
 "metadata": {
  "kernelspec": {
   "display_name": "Python 3",
   "language": "python",
   "name": "python3"
  },
  "language_info": {
   "codemirror_mode": {
    "name": "ipython",
    "version": 3
   },
   "file_extension": ".py",
   "mimetype": "text/x-python",
   "name": "python",
   "nbconvert_exporter": "python",
   "pygments_lexer": "ipython3",
   "version": "3.7.0"
  }
 },
 "nbformat": 4,
 "nbformat_minor": 2
}
