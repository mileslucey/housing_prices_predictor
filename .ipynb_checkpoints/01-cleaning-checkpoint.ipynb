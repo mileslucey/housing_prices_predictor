{
 "cells": [
  {
   "cell_type": "code",
   "execution_count": 1,
   "metadata": {},
   "outputs": [],
   "source": [
    "# Dependencies and setup\n",
    "import numpy as np\n",
    "import matplotlib.pyplot as plt\n",
    "import pandas as pd\n",
    "import seaborn as sns\n",
    "import numpy as np\n",
    "from scipy import stats\n",
    "from sklearn.preprocessing import Imputer\n",
    "%matplotlib inline"
   ]
  },
  {
   "cell_type": "code",
   "execution_count": 2,
   "metadata": {},
   "outputs": [],
   "source": [
    "# Set maximum rows to a high number\n",
    "pd.set_option('display.max_rows', 100)"
   ]
  },
  {
   "cell_type": "code",
   "execution_count": 3,
   "metadata": {},
   "outputs": [],
   "source": [
    "# Load datasets\n",
    "training_data = pd.read_csv(\"01-raw_data/train.csv\",index_col=0)\n",
    "testing_data = pd.read_csv(\"01-raw_data/test.csv\",index_col=0)"
   ]
  },
  {
   "cell_type": "code",
   "execution_count": 4,
   "metadata": {},
   "outputs": [],
   "source": [
    "# Replace unusual values in DataFrame columns\n",
    "\n",
    "# Training data\n",
    "training_data[\"MSZoning\"].replace(\"C (all)\", \"C\", inplace=True)\n",
    "\n",
    "# Testing data\n",
    "testing_data[\"MSZoning\"].replace(\"C (all)\", \"C\", inplace=True)"
   ]
  },
  {
   "cell_type": "code",
   "execution_count": 5,
   "metadata": {},
   "outputs": [],
   "source": [
    "# Fill LotFrontage N/As with median values for each neighborhood\n",
    "\n",
    "# Training data\n",
    "training_data[\"LotFrontage\"] = training_data.groupby(\"Neighborhood\")[\"LotFrontage\"].transform(lambda x: x.fillna(x.median()))\n",
    "\n",
    "# Testing data\n",
    "testing_data[\"LotFrontage\"] = testing_data.groupby(\"Neighborhood\")[\"LotFrontage\"].transform(lambda x: x.fillna(x.median()))"
   ]
  },
  {
   "cell_type": "code",
   "execution_count": 6,
   "metadata": {},
   "outputs": [],
   "source": [
    "# For some string variables, N/A means that there isn't a specific feature on a house. For example N/A on \"BsmtCond\" (Basement Condition) means that there is no basement. Therefore, replace N/A values with \"None\"\n",
    "\n",
    "# Training data\n",
    "training_data.update(training_data[[\"Alley\",\n",
    "                                    \"MasVnrType\",\n",
    "                                    \"BsmtQual\",\n",
    "                                    \"BsmtCond\",\n",
    "                                    \"BsmtExposure\",\n",
    "                                    \"BsmtFinType1\",\n",
    "                                    \"BsmtFinType2\",\n",
    "                                    \"FireplaceQu\",\n",
    "                                    \"GarageType\",\n",
    "                                    \"GarageYrBlt\",\n",
    "                                    \"GarageFinish\",\n",
    "                                    \"GarageQual\",\n",
    "                                    \"GarageCond\",\n",
    "                                    \"PoolQC\",\n",
    "                                    \"Fence\",\n",
    "                                    \"MiscFeature\",\n",
    "                                    \"MiscVal\"]].fillna(\"None\"))\n",
    "\n",
    "# Testing data\n",
    "testing_data.update(testing_data[[\"Alley\",\n",
    "                                    \"MasVnrType\",\n",
    "                                    \"BsmtQual\",\n",
    "                                    \"BsmtCond\",\n",
    "                                    \"BsmtExposure\",\n",
    "                                    \"BsmtFinType1\",\n",
    "                                    \"BsmtFinType2\",\n",
    "                                    \"FireplaceQu\",\n",
    "                                    \"GarageType\",\n",
    "                                    \"GarageYrBlt\",\n",
    "                                    \"GarageFinish\",\n",
    "                                    \"GarageQual\",\n",
    "                                    \"GarageCond\",\n",
    "                                    \"PoolQC\",\n",
    "                                    \"Fence\",\n",
    "                                    \"MiscFeature\",\n",
    "                                    \"MiscVal\"]].fillna(\"None\"))"
   ]
  },
  {
   "cell_type": "code",
   "execution_count": 7,
   "metadata": {},
   "outputs": [],
   "source": [
    "# Some N/A values are better replaced with 0s. For example, when BsmtFinSF1 (finished basement square feet) is N/A it means that there is no basement. Therefore, N/As for some columns are replaced with 0s\n",
    "\n",
    "# Training data\n",
    "training_data.update(training_data[[\"MasVnrArea\",\n",
    "                                    \"BsmtFinSF1\",\n",
    "                                    \"BsmtFinSF2\",\n",
    "                                    \"TotalBsmtSF\",\n",
    "                                    \"BsmtUnfSF\",\n",
    "                                    \"BsmtFullBath\",\n",
    "                                    \"BsmtHalfBath\",\n",
    "                                    \"GarageArea\",\n",
    "                                    \"GarageCars\"]].fillna(0))\n",
    "\n",
    "# Testing data\n",
    "testing_data.update(testing_data[[\"MasVnrArea\",\n",
    "                                    \"BsmtFinSF1\",\n",
    "                                    \"BsmtFinSF2\",\n",
    "                                    \"TotalBsmtSF\",\n",
    "                                    \"BsmtUnfSF\",\n",
    "                                    \"BsmtFullBath\",\n",
    "                                    \"BsmtHalfBath\",\n",
    "                                    \"GarageArea\",\n",
    "                                    \"GarageCars\"]].fillna(0))"
   ]
  },
  {
   "cell_type": "code",
   "execution_count": 8,
   "metadata": {},
   "outputs": [],
   "source": [
    "# In the \"Electrical\" column, there are only a couple of N/As and most homes have the same type of electrical. Replacing N/As with the mode result in each neighborhood\n",
    "\n",
    "# Training data\n",
    "training_data[\"Electrical\"] = training_data.groupby(\"Neighborhood\")[\"Electrical\"].transform(lambda x: x.fillna(x.mode()[0]))\n",
    "\n",
    "# Testing data\n",
    "testing_data[\"Electrical\"] = testing_data.groupby(\"Neighborhood\")[\"Electrical\"].transform(lambda x: x.fillna(x.mode()[0]))"
   ]
  },
  {
   "cell_type": "code",
   "execution_count": 9,
   "metadata": {},
   "outputs": [],
   "source": [
    "# Many variables like housing classes, years, months, and ratings are represented as integers when they actually function like strings. Converting incorrectly classified variables as strings\n",
    "\n",
    "# Training data\n",
    "training_data[[\"MSSubClass\",\n",
    "               \"YearBuilt\",\n",
    "               \"YearRemodAdd\",\n",
    "               \"GarageYrBlt\",\n",
    "               \"YrSold\",\n",
    "               \"MoSold\",\n",
    "               \"OverallCond\",\n",
    "               \"OverallQual\"]] = training_data[[\"MSSubClass\",\n",
    "                                                \"YearBuilt\",\n",
    "                                                \"YearRemodAdd\",\n",
    "                                                \"GarageYrBlt\",\n",
    "                                                \"YrSold\",\n",
    "                                                \"MoSold\",\n",
    "                                                \"OverallCond\",\n",
    "                                                \"OverallQual\"]].astype(str) \n",
    "\n",
    "# Testing data\n",
    "testing_data[[\"MSSubClass\",\n",
    "               \"YearBuilt\",\n",
    "               \"YearRemodAdd\",\n",
    "               \"GarageYrBlt\",\n",
    "               \"YrSold\",\n",
    "               \"MoSold\",\n",
    "               \"OverallCond\",\n",
    "               \"OverallQual\"]] = testing_data[[\"MSSubClass\",\n",
    "                                                \"YearBuilt\",\n",
    "                                                \"YearRemodAdd\",\n",
    "                                                \"GarageYrBlt\",\n",
    "                                                \"YrSold\",\n",
    "                                                \"MoSold\",\n",
    "                                                \"OverallCond\",\n",
    "                                                \"OverallQual\"]].astype(str) "
   ]
  },
  {
   "cell_type": "code",
   "execution_count": 10,
   "metadata": {},
   "outputs": [],
   "source": [
    "# Training data\n",
    "training_data[[\"GarageCars\",\n",
    "               \"BsmtFullBath\",\n",
    "               \"BsmtHalfBath\"]] = training_data[[\"GarageCars\",\n",
    "                                                 \"BsmtFullBath\",\n",
    "                                                 \"BsmtHalfBath\"]].astype(int)\n",
    "\n",
    "testing_data[[\"GarageCars\",\n",
    "              \"BsmtFullBath\",\n",
    "              \"BsmtHalfBath\"]] = testing_data[[\"GarageCars\",\n",
    "                                               \"BsmtFullBath\",\n",
    "                                               \"BsmtHalfBath\"]].astype(int)"
   ]
  },
  {
   "cell_type": "code",
   "execution_count": 11,
   "metadata": {},
   "outputs": [],
   "source": [
    "# Export cleaned datasets\n",
    "\n",
    "# Training data\n",
    "training_data.to_csv(\"02-cleaned_data/cleaned_training.csv\")\n",
    "\n",
    "# Testing data\n",
    "testing_data.to_csv(\"02-cleaned_data/cleaned_testing.csv\")"
   ]
  },
  {
   "cell_type": "code",
   "execution_count": null,
   "metadata": {},
   "outputs": [],
   "source": []
  }
 ],
 "metadata": {
  "kernelspec": {
   "display_name": "Python 3",
   "language": "python",
   "name": "python3"
  },
  "language_info": {
   "codemirror_mode": {
    "name": "ipython",
    "version": 3
   },
   "file_extension": ".py",
   "mimetype": "text/x-python",
   "name": "python",
   "nbconvert_exporter": "python",
   "pygments_lexer": "ipython3",
   "version": "3.7.0"
  }
 },
 "nbformat": 4,
 "nbformat_minor": 2
}
