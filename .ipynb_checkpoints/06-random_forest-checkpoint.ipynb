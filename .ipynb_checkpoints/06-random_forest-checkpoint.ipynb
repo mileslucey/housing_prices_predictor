{
 "cells": [
  {
   "cell_type": "markdown",
   "metadata": {},
   "source": [
    "# Random Forest Regression"
   ]
  },
  {
   "cell_type": "markdown",
   "metadata": {},
   "source": [
    "## General Setup"
   ]
  },
  {
   "cell_type": "code",
   "execution_count": 1,
   "metadata": {},
   "outputs": [],
   "source": [
    "# Dependencies and setup\n",
    "import numpy as np\n",
    "import matplotlib.pyplot as plt\n",
    "import matplotlib.gridspec as gridspec\n",
    "import pandas as pd\n",
    "import seaborn as sns\n",
    "import numpy as np\n",
    "from scipy import stats\n",
    "from scipy.special import boxcox1p\n",
    "from sklearn.model_selection import train_test_split\n",
    "from sklearn.linear_model import LinearRegression\n",
    "from sklearn.preprocessing import LabelEncoder, OneHotEncoder, Imputer\n",
    "import statsmodels.formula.api as sm\n",
    "from sklearn.linear_model import Ridge\n",
    "from sklearn.metrics import mean_squared_error\n",
    "from sklearn.ensemble import RandomForestRegressor, GradientBoostingRegressor\n",
    "%matplotlib inline"
   ]
  },
  {
   "cell_type": "code",
   "execution_count": 2,
   "metadata": {},
   "outputs": [],
   "source": [
    "# Set maximum rows to a high number\n",
    "pd.set_option('display.max_rows', 30)\n",
    "pd.set_option('display.max_columns', 150)"
   ]
  },
  {
   "cell_type": "code",
   "execution_count": 3,
   "metadata": {},
   "outputs": [],
   "source": [
    "# Load dataset\n",
    "training_data = pd.read_csv(\"02-cleaned_data/cleaned_training.csv\",index_col=0)"
   ]
  },
  {
   "cell_type": "markdown",
   "metadata": {},
   "source": [
    "## Prepare the Data for Regression"
   ]
  },
  {
   "cell_type": "code",
   "execution_count": 4,
   "metadata": {},
   "outputs": [],
   "source": [
    "# Define a \"TotLivingSF\" variable that takes all the livable square feet in a home\n",
    "training_data[\"TotLivingSF\"] = training_data[\"GrLivArea\"] + training_data[\"TotalBsmtSF\"] - training_data[\"LowQualFinSF\"]\n",
    "\n",
    "# Define an \"AgeSold\" variable as the age of the home when it was sold\n",
    "training_data[\"AgeSold\"] = training_data[\"YrSold\"] - training_data[\"YearBuilt\"] "
   ]
  },
  {
   "cell_type": "code",
   "execution_count": 5,
   "metadata": {},
   "outputs": [],
   "source": [
    "# Reduce the dataframe to only its necessary columns\n",
    "training_data = training_data[[\"TotLivingSF\",\"OverallQual\",\"YearBuilt\",\"AgeSold\",\"ExterQual\",\"GarageCars\",\"CentralAir\",\"YearRemodAdd\",\"LotArea\",\"OverallCond\",\"FullBath\",\"KitchenQual\",\"Fireplaces\",\"FireplaceQu\",\"MSZoning\",\"LotFrontage\",\"BedroomAbvGr\",\"Neighborhood\",\"SalePrice\"]]"
   ]
  },
  {
   "cell_type": "code",
   "execution_count": 6,
   "metadata": {},
   "outputs": [],
   "source": [
    "# Separate x and y variables\n",
    "\n",
    "# Matrix of independent variables\n",
    "X = training_data.iloc[:,:-1].values\n",
    "\n",
    "# Vector of dependent variable (home sale price)\n",
    "y = np.log(training_data.iloc[:,-1]).values"
   ]
  },
  {
   "cell_type": "code",
   "execution_count": 7,
   "metadata": {},
   "outputs": [],
   "source": [
    "# Enter the ordinal variables as numbers\n",
    "training_data[\"ExterQual\"].replace({\"None\":0,\"Po\":1,\"Fa\":2,\"TA\":3,\"Gd\":4,\"Ex\":5},inplace=True)\n",
    "training_data[\"KitchenQual\"].replace({\"None\":0,\"Po\":1,\"Fa\":2,\"TA\":3,\"Gd\":4,\"Ex\":5},inplace=True)\n",
    "training_data[\"FireplaceQu\"].replace({\"None\":0,\"Po\":1,\"Fa\":2,\"TA\":3,\"Gd\":4,\"Ex\":5},inplace=True)"
   ]
  },
  {
   "cell_type": "code",
   "execution_count": 8,
   "metadata": {},
   "outputs": [],
   "source": [
    "# Get the dummy variables for the nominal variables\n",
    "data = training_data.iloc[:,:-1]\n",
    "data_encoded = pd.get_dummies(data,columns=[\"CentralAir\",\"MSZoning\",\"Neighborhood\"],drop_first=True)"
   ]
  },
  {
   "cell_type": "code",
   "execution_count": 9,
   "metadata": {},
   "outputs": [],
   "source": [
    "# Define independent variables\n",
    "X = data_encoded.values"
   ]
  },
  {
   "cell_type": "code",
   "execution_count": 10,
   "metadata": {},
   "outputs": [],
   "source": [
    "# Separate the X and Y training and testing variables\n",
    "X_train, X_test, y_train, y_test = train_test_split(X,y,test_size = .3, random_state = 0)"
   ]
  },
  {
   "cell_type": "markdown",
   "metadata": {},
   "source": [
    "## Run the regression"
   ]
  },
  {
   "cell_type": "code",
   "execution_count": 11,
   "metadata": {},
   "outputs": [],
   "source": [
    "# Define the model \n",
    "model = RandomForestRegressor(n_estimators = 400, n_jobs=-1, oob_score=False,min_samples_leaf = 1, max_features = 0.4)"
   ]
  },
  {
   "cell_type": "code",
   "execution_count": 12,
   "metadata": {},
   "outputs": [
    {
     "data": {
      "text/plain": [
       "RandomForestRegressor(bootstrap=True, criterion='mse', max_depth=None,\n",
       "           max_features=0.4, max_leaf_nodes=None,\n",
       "           min_impurity_decrease=0.0, min_impurity_split=None,\n",
       "           min_samples_leaf=1, min_samples_split=2,\n",
       "           min_weight_fraction_leaf=0.0, n_estimators=400, n_jobs=-1,\n",
       "           oob_score=False, random_state=None, verbose=0, warm_start=False)"
      ]
     },
     "execution_count": 12,
     "metadata": {},
     "output_type": "execute_result"
    }
   ],
   "source": [
    "# Fit and run the model\n",
    "model.fit(X_train, y_train)"
   ]
  },
  {
   "cell_type": "code",
   "execution_count": 13,
   "metadata": {},
   "outputs": [
    {
     "data": {
      "text/plain": [
       "0.8910025017215346"
      ]
     },
     "execution_count": 13,
     "metadata": {},
     "output_type": "execute_result"
    }
   ],
   "source": [
    "# Score the model\n",
    "model.score(X_test, y_test)"
   ]
  },
  {
   "cell_type": "code",
   "execution_count": 14,
   "metadata": {},
   "outputs": [],
   "source": [
    "# Define the y predictions\n",
    "y_pred = model.predict(X_test)"
   ]
  },
  {
   "cell_type": "code",
   "execution_count": 15,
   "metadata": {},
   "outputs": [
    {
     "name": "stdout",
     "output_type": "stream",
     "text": [
      "Training Score: 0.983158782594885\n",
      "Testing Score: 0.8910025017215346\n",
      "MSE: 0.016841327158711467\n"
     ]
    },
    {
     "data": {
      "image/png": "[encoded data removed]",
      "text/plain": [
       "<Figure size 432x288 with 1 Axes>"
      ]
     },
     "metadata": {
      "needs_background": "light"
     },
     "output_type": "display_data"
    }
   ],
   "source": [
    "# Print the training and testing scores\n",
    "training_score = model.score(X_train, y_train)\n",
    "testing_score = model.score(X_test, y_test)\n",
    "MSE = mean_squared_error(y_test,y_pred)\n",
    "print(f\"Training Score: {training_score}\")\n",
    "print(f\"Testing Score: {testing_score}\")\n",
    "print(f\"MSE: {MSE}\")\n",
    "\n",
    "# Create a scatter plot of the residuals for the training and testing dataset\n",
    "plt.scatter(model.predict(X_train), model.predict(X_train) - y_train, c=\"slateblue\", label=\"Training Data\")\n",
    "plt.scatter(y_pred, y_pred - y_test, c=\"plum\", label=\"Testing Data\")\n",
    "plt.legend()\n",
    "plt.hlines(y=0, xmin=y_test.min(), xmax=y_test.max())\n",
    "plt.title(\"Residual Plot\")\n",
    "plt.xlabel(\"log(Home Price (USD))\")\n",
    "plt.show()"
   ]
  },
  {
   "cell_type": "code",
   "execution_count": 16,
   "metadata": {},
   "outputs": [],
   "source": [
    "# Export testing's predictions and actual values to CSV so that they can be used in Tableau dashboard\n",
    "actual_predictions = pd.DataFrame({\"actual\":y_test,\"predictions\":y_pred})\n",
    "actual_predictions[[\"actual\",\"predictions\"]] = np.exp(actual_predictions[[\"actual\",\"predictions\"]])\n",
    "actual_predictions.to_csv(\"03-kaggle_submission/03_actual_predictions_rf.csv\",header=True)"
   ]
  },
  {
   "cell_type": "markdown",
   "metadata": {},
   "source": [
    "## Kaggle Submission"
   ]
  },
  {
   "cell_type": "code",
   "execution_count": 17,
   "metadata": {},
   "outputs": [],
   "source": [
    "# Load dataset\n",
    "testing_data = pd.read_csv(\"02-cleaned_data/cleaned_testing.csv\",index_col=0)"
   ]
  },
  {
   "cell_type": "code",
   "execution_count": 18,
   "metadata": {},
   "outputs": [],
   "source": [
    "# Define a \"TotLivingSF\" variable that takes all the livable square feet in a home\n",
    "testing_data[\"TotLivingSF\"] = testing_data[\"GrLivArea\"] + testing_data[\"TotalBsmtSF\"] - testing_data[\"LowQualFinSF\"]\n",
    "\n",
    "# Define \"AgeSold\" variable as the age of the homes when they were sold\n",
    "testing_data[\"AgeSold\"] = testing_data[\"YrSold\"] - testing_data[\"YearBuilt\"] \n"
   ]
  },
  {
   "cell_type": "code",
   "execution_count": 19,
   "metadata": {},
   "outputs": [],
   "source": [
    "# Reduce dataframe to just the necessary variables\n",
    "testing_data = testing_data[[\"TotLivingSF\",\"OverallQual\",\"YearBuilt\",\"AgeSold\",\"ExterQual\",\"GarageCars\",\"CentralAir\",\"YearRemodAdd\",\"LotArea\",\"OverallCond\",\"FullBath\",\"KitchenQual\",\"Fireplaces\",\"FireplaceQu\",\"MSZoning\",\"LotFrontage\",\"BedroomAbvGr\",\"Neighborhood\"]]"
   ]
  },
  {
   "cell_type": "code",
   "execution_count": 20,
   "metadata": {},
   "outputs": [],
   "source": [
    "# Enter the ordinal variables as numbers\n",
    "testing_data[\"ExterQual\"].replace({\"None\":0,\"Po\":1,\"Fa\":2,\"TA\":3,\"Gd\":4,\"Ex\":5},inplace=True)\n",
    "testing_data[\"KitchenQual\"].replace({\"None\":0,\"Po\":1,\"Fa\":2,\"TA\":3,\"Gd\":4,\"Ex\":5},inplace=True)\n",
    "testing_data[\"FireplaceQu\"].replace({\"None\":0,\"Po\":1,\"Fa\":2,\"TA\":3,\"Gd\":4,\"Ex\":5},inplace=True)"
   ]
  },
  {
   "cell_type": "code",
   "execution_count": 21,
   "metadata": {},
   "outputs": [],
   "source": [
    "# Get dummy variables for nominal variables\n",
    "data_encoded_testing = pd.get_dummies(testing_data,columns=[\"CentralAir\",\"MSZoning\",\"Neighborhood\"],drop_first=True)\n",
    "\n",
    "# Define the independent testing values and the dependent predictions\n",
    "X_testing_values = data_encoded_testing.values\n",
    "y_pred_testing = model.predict(X_testing_values)\n",
    "testing_data[\"SalePrice\"] = y_pred_testing\n",
    "\n",
    "# Export the predictions for the Kaggle competition to a CSV\n",
    "kaggle_output = testing_data[\"SalePrice\"]\n",
    "kaggle_output.to_csv(\"03-kaggle_submission/random_forest_solution.csv\",header=True)"
   ]
  },
  {
   "cell_type": "markdown",
   "metadata": {},
   "source": [
    "# Gradient Boosting Regression (To Be Completed After Bootcamp Graduation)"
   ]
  },
  {
   "cell_type": "code",
   "execution_count": 22,
   "metadata": {},
   "outputs": [],
   "source": [
    "# GBR = GradientBoostingRegressor(n_estimators = 100)"
   ]
  },
  {
   "cell_type": "code",
   "execution_count": 23,
   "metadata": {},
   "outputs": [],
   "source": [
    "# X_train, X_test, y_train, y_test = train_test_split(X,y,test_size = .3, random_state = 0)"
   ]
  },
  {
   "cell_type": "code",
   "execution_count": 24,
   "metadata": {},
   "outputs": [],
   "source": [
    "# GBR.fit(X_train,y_train)"
   ]
  },
  {
   "cell_type": "code",
   "execution_count": 25,
   "metadata": {},
   "outputs": [],
   "source": [
    "# y_pred = GBR.predict(X_test)"
   ]
  },
  {
   "cell_type": "code",
   "execution_count": 26,
   "metadata": {},
   "outputs": [],
   "source": [
    "# GBR.score(X_test, y_test)"
   ]
  },
  {
   "cell_type": "code",
   "execution_count": 27,
   "metadata": {},
   "outputs": [],
   "source": [
    "# Fit the model to the training data and calculate the scores for the training and testing data\n",
    "\n",
    "# ### BEGIN SOLUTION\n",
    "# training_score = GBR.score(X_train, y_train)\n",
    "# testing_score = GBR.score(X_test, y_test)\n",
    "# MSE = mean_squared_error(y_test,y_pred)\n",
    "### END SOLUTION \n",
    "\n",
    "# print(f\"Training Score: {training_score}\")\n",
    "# print(f\"Testing Score: {testing_score}\")\n",
    "# print(f\"MSE: {MSE}\")\n",
    "### BEGIN SOLUTION\n",
    "# predictions = model.predict(X_test_scaled)\n",
    "# model.fit(X_train_scaled, y_train_scaled)\n",
    "# plt.scatter(model.predict(X_train_scaled), model.predict(X_train_scaled) - y_train_scaled, c=\"blue\", label=\"Training Data\")\n",
    "# plt.scatter(GBR.predict(X_train), GBR.predict(X_train) - y_train, c=\"slateblue\", label=\"Training Data\")\n",
    "# plt.scatter(y_pred, y_pred - y_test, c=\"plum\", label=\"Testing Data\")\n",
    "# plt.legend()\n",
    "# plt.hlines(y=0, xmin=y_test.min(), xmax=y_test.max())\n",
    "# plt.title(\"Residual Plot\")\n",
    "# plt.xlabel(\"log(Home Price (USD))\")\n",
    "# plt.show()\n",
    "### END SOLUTION"
   ]
  },
  {
   "cell_type": "code",
   "execution_count": 28,
   "metadata": {},
   "outputs": [],
   "source": [
    "# Load dataset\n",
    "# testing_data = pd.read_csv(\"02-cleaned_data/cleaned_testing.csv\",index_col=0)"
   ]
  },
  {
   "cell_type": "code",
   "execution_count": 29,
   "metadata": {},
   "outputs": [],
   "source": [
    "# Define a \"TotLivingSF\" variable that takes all the livable square feet in a home\n",
    "# testing_data[\"TotLivingSF\"] = testing_data[\"GrLivArea\"] + testing_data[\"TotalBsmtSF\"] - testing_data[\"LowQualFinSF\"]\n",
    "# testing_data[\"AgeSold\"] = testing_data[\"YrSold\"] - testing_data[\"YearBuilt\"] \n",
    "# testing_data = testing_data[[\"TotLivingSF\",\"OverallQual\",\"YearBuilt\",\"AgeSold\",\"ExterQual\",\"GarageCars\",\"CentralAir\",\"YearRemodAdd\",\"LotArea\",\"OverallCond\",\"FullBath\",\"KitchenQual\",\"Fireplaces\",\"FireplaceQu\",\"MSZoning\",\"LotFrontage\",\"BedroomAbvGr\",\"Neighborhood\"]]"
   ]
  },
  {
   "cell_type": "code",
   "execution_count": 30,
   "metadata": {},
   "outputs": [],
   "source": [
    "# testing_data[\"ExterQual\"].replace({\"None\":0,\"Po\":1,\"Fa\":2,\"TA\":3,\"Gd\":4,\"Ex\":5},inplace=True)\n",
    "# testing_data[\"KitchenQual\"].replace({\"None\":0,\"Po\":1,\"Fa\":2,\"TA\":3,\"Gd\":4,\"Ex\":5},inplace=True)\n",
    "# testing_data[\"FireplaceQu\"].replace({\"None\":0,\"Po\":1,\"Fa\":2,\"TA\":3,\"Gd\":4,\"Ex\":5},inplace=True)"
   ]
  },
  {
   "cell_type": "code",
   "execution_count": 31,
   "metadata": {},
   "outputs": [],
   "source": [
    "# data_encoded_testing = pd.get_dummies(testing_data,columns=[\"CentralAir\",\"MSZoning\",\"Neighborhood\"],drop_first=True)"
   ]
  },
  {
   "cell_type": "code",
   "execution_count": 32,
   "metadata": {},
   "outputs": [],
   "source": [
    "# X_testing_values = data_encoded_testing.values"
   ]
  },
  {
   "cell_type": "code",
   "execution_count": 33,
   "metadata": {},
   "outputs": [],
   "source": [
    "# y_pred_testing = GBR.predict(X_testing_values)"
   ]
  },
  {
   "cell_type": "code",
   "execution_count": 34,
   "metadata": {},
   "outputs": [],
   "source": [
    "# testing_data[\"SalePrice\"] = y_pred_testing"
   ]
  },
  {
   "cell_type": "code",
   "execution_count": 35,
   "metadata": {},
   "outputs": [],
   "source": [
    "# testing_data['SalePrice'] = np.exp(testing_data['SalePrice'])"
   ]
  },
  {
   "cell_type": "code",
   "execution_count": 36,
   "metadata": {},
   "outputs": [],
   "source": [
    "# kaggle_output = testing_data[\"SalePrice\"]"
   ]
  },
  {
   "cell_type": "code",
   "execution_count": 37,
   "metadata": {},
   "outputs": [],
   "source": [
    "# kaggle_output.to_csv(\"03-kaggle_submission/GBR_solution.csv\",header=True)"
   ]
  }
 ],
 "metadata": {
  "kernelspec": {
   "display_name": "Python 3",
   "language": "python",
   "name": "python3"
  },
  "language_info": {
   "codemirror_mode": {
    "name": "ipython",
    "version": 3
   },
   "file_extension": ".py",
   "mimetype": "text/x-python",
   "name": "python",
   "nbconvert_exporter": "python",
   "pygments_lexer": "ipython3",
   "version": "3.7.0"
  }
 },
 "nbformat": 4,
 "nbformat_minor": 2
}
